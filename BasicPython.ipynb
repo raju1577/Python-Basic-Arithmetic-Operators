{
 "cells": [
  {
   "cell_type": "markdown",
   "id": "4eed2286-fb71-490a-a687-e9f61516bee8",
   "metadata": {},
   "source": [
    "#Basic Python code practise\n"
   ]
  },
  {
   "cell_type": "code",
   "execution_count": 58,
   "id": "210455f6-a594-4f0d-b5b8-65aa0ae2e46f",
   "metadata": {},
   "outputs": [
    {
     "name": "stdout",
     "output_type": "stream",
     "text": [
      "Airthmetic........\n",
      "Additon =  11\n",
      "Substraction =  -1\n",
      "Multiplication =  30\n",
      "Division =  0.8333333333333334\n",
      ".................\n"
     ]
    }
   ],
   "source": [
    "#Airthemtic \n",
    "a=5\n",
    "b=6\n",
    "#addition \n",
    "print(\"Airthmetic........\")\n",
    "print(\"Additon = \", a+b)\n",
    "#Substraction\n",
    "print ( \"Substraction = \", a-b)\n",
    "#multiplication\n",
    "print(\"Multiplication = \", a*b)\n",
    "\n",
    "#division\n",
    "print(\"Division = \", a/b)\n",
    "print(\".................\")"
   ]
  },
  {
   "cell_type": "code",
   "execution_count": 7,
   "id": "8af2be98-a7e1-4773-abb2-dd065b55f048",
   "metadata": {},
   "outputs": [
    {
     "data": {
      "text/plain": [
       "5"
      ]
     },
     "execution_count": 7,
     "metadata": {},
     "output_type": "execute_result"
    }
   ],
   "source": [
    "a"
   ]
  },
  {
   "cell_type": "code",
   "execution_count": 5,
   "id": "c728cbb1-62bd-4715-a4ef-d8a4336b774c",
   "metadata": {},
   "outputs": [
    {
     "data": {
      "text/plain": [
       "6"
      ]
     },
     "execution_count": 5,
     "metadata": {},
     "output_type": "execute_result"
    }
   ],
   "source": [
    "b"
   ]
  },
  {
   "cell_type": "code",
   "execution_count": 9,
   "id": "d8041650-32b2-4ab9-8fcc-0c1c9ea12cdd",
   "metadata": {},
   "outputs": [
    {
     "name": "stdout",
     "output_type": "stream",
     "text": [
      "5\n",
      "6\n"
     ]
    }
   ],
   "source": [
    "print(a)\n",
    "print(b)"
   ]
  },
  {
   "cell_type": "code",
   "execution_count": 23,
   "id": "9fce72b6-2b26-4868-9969-c446e56752e2",
   "metadata": {},
   "outputs": [
    {
     "name": "stdout",
     "output_type": "stream",
     "text": [
      "11\n",
      "-1\n",
      "30\n",
      "0.8333333333333334\n"
     ]
    }
   ],
   "source": [
    "\n"
   ]
  },
  {
   "cell_type": "code",
   "execution_count": 56,
   "id": "dea7acb8-dc1c-4b40-85f4-ff1ea78c61cb",
   "metadata": {},
   "outputs": [
    {
     "name": "stdout",
     "output_type": "stream",
     "text": [
      "#Comparizaon operator.......\n",
      "is_equal =  False\n",
      "is_not_equal =  True\n",
      "is_greater =  False\n",
      "is_lessthan =  True\n",
      "................\n"
     ]
    }
   ],
   "source": [
    "#Comparizaon operator\n",
    "\n",
    "is_equal = a==b\n",
    "print(\"#Comparizaon operator.......\")\n",
    "print (\"is_equal = \" , is_equal)\n",
    "is_not_equal= a!=b\n",
    "print (\"is_not_equal = \", is_not_equal)\n",
    "is_greater = a>b\n",
    "print(\"is_greater = \", is_greater)\n",
    "is_lessthan = a<b\n",
    "print(\"is_lessthan = \", is_lessthan)\n",
    "print(\"................\")\n",
    "\n"
   ]
  },
  {
   "cell_type": "code",
   "execution_count": 54,
   "id": "56bfcb78-4e12-4825-a29c-a6cf03e1d4ed",
   "metadata": {},
   "outputs": [
    {
     "name": "stdout",
     "output_type": "stream",
     "text": [
      "logical_and =  False\n",
      "logical_or =  True\n",
      "logical_not =  True\n"
     ]
    }
   ],
   "source": [
    "#Logical Operator\n",
    "print(\"Logical Operator .......\")\n",
    "logical_and = (a>b) and (b<a)\n",
    "print(\"logical_and = \", logical_and)\n",
    "logical_or = (a>b) or (b>a)\n",
    "print(\"logical_or = \", logical_or)\n",
    "logical_not = not(a>b)\n",
    "print(\"logical_not = \", logical_not)"
   ]
  },
  {
   "cell_type": "code",
   "execution_count": 60,
   "id": "53634668-fc65-489e-ad80-be1357abd716",
   "metadata": {},
   "outputs": [
    {
     "name": "stdout",
     "output_type": "stream",
     "text": [
      "Airthmetic........\n",
      "Additon =  11\n",
      "Substraction =  -1\n",
      "Multiplication =  30\n",
      "Division =  0.8333333333333334\n",
      ".................\n",
      "#Comparizaon operator.......\n",
      "is_equal =  False\n",
      "is_not_equal =  True\n",
      "is_greater =  False\n",
      "is_lessthan =  True\n",
      "................\n",
      "Logical Operator .......\n",
      "logical_and =  False\n",
      "logical_or =  True\n",
      "logical_not =  True\n"
     ]
    }
   ],
   "source": [
    "print(\"Airthmetic........\")\n",
    "print(\"Additon = \", a+b)\n",
    "#Substraction\n",
    "print ( \"Substraction = \", a-b)\n",
    "#multiplication\n",
    "print(\"Multiplication = \", a*b)\n",
    "\n",
    "#division\n",
    "print(\"Division = \", a/b)\n",
    "print(\".................\")\n",
    "print(\"#Comparizaon operator.......\")\n",
    "print (\"is_equal = \" , is_equal)\n",
    "is_not_equal= a!=b\n",
    "print (\"is_not_equal = \", is_not_equal)\n",
    "is_greater = a>b\n",
    "print(\"is_greater = \", is_greater)\n",
    "is_lessthan = a<b\n",
    "print(\"is_lessthan = \", is_lessthan)\n",
    "print(\"................\")\n",
    "print(\"Logical Operator .......\")\n",
    "logical_and = (a>b) and (b<a)\n",
    "print(\"logical_and = \", logical_and)\n",
    "logical_or = (a>b) or (b>a)\n",
    "print(\"logical_or = \", logical_or)\n",
    "logical_not = not(a>b)\n",
    "print(\"logical_not = \", logical_not)\n"
   ]
  },
  {
   "cell_type": "code",
   "execution_count": null,
   "id": "92f99a8c-e4fb-4d37-a7c8-4c75d3593346",
   "metadata": {},
   "outputs": [],
   "source": []
  }
 ],
 "metadata": {
  "kernelspec": {
   "display_name": "Python 3 (ipykernel)",
   "language": "python",
   "name": "python3"
  },
  "language_info": {
   "codemirror_mode": {
    "name": "ipython",
    "version": 3
   },
   "file_extension": ".py",
   "mimetype": "text/x-python",
   "name": "python",
   "nbconvert_exporter": "python",
   "pygments_lexer": "ipython3",
   "version": "3.12.4"
  }
 },
 "nbformat": 4,
 "nbformat_minor": 5
}
